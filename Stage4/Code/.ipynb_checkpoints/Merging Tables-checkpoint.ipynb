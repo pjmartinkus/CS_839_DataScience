{
 "cells": [
  {
   "cell_type": "markdown",
   "metadata": {},
   "source": [
    "# Merging Walmart and Amazon Datasets\n",
    "\n",
    "In this notebook, we will demonstrate how we merged our walmart and amazon datasets. First we will run our workflow developed in stage 3 to match the data instances of the two tables. Then, using these matches, we will merge the datasets into a single table that can be used later on for analysis purposes."
   ]
  },
  {
   "cell_type": "code",
   "execution_count": 1,
   "metadata": {},
   "outputs": [],
   "source": [
    "import pandas as pd\n",
    "import numpy as np\n",
    "import py_entitymatching as em\n",
    "from matching_workflow import workflow\n",
    "from merging import merge_tables\n",
    "\n",
    "import warnings\n",
    "warnings.filterwarnings('ignore')"
   ]
  },
  {
   "cell_type": "markdown",
   "metadata": {},
   "source": [
    "### Matching the Two Tables\n",
    "\n",
    "First, we need to find matches between the tables. We will use the workflow developed in stage 3 to complete the entity matching process. However, the workflow in stage 3 was a development workflow so we have updated the workflow to model the production stage. This workflow can be found in the matching_workflow.py file."
   ]
  },
  {
   "cell_type": "code",
   "execution_count": 2,
   "metadata": {},
   "outputs": [],
   "source": [
    "# Save the paths to each of our input tables\n",
    "path_walmart = '../Data/Walmart_clean.csv'\n",
    "path_amazon = '../Data/Amazon_clean.csv'\n",
    "path_labeled = '../Data/Labeled_Data.csv'\n",
    "path_matches = '../Data/Matches.csv'"
   ]
  },
  {
   "cell_type": "code",
   "execution_count": 3,
   "metadata": {},
   "outputs": [
    {
     "name": "stderr",
     "output_type": "stream",
     "text": [
      "Metadata file is not present in the given path; proceeding to read the csv file.\n",
      "Metadata file is not present in the given path; proceeding to read the csv file.\n",
      "Column Battery Life does not seem to qualify as any atomic type. It may contain all NaNs. Please update the values of column Battery Life\n",
      "0% [##############################] 100% | ETA: 00:00:00\n",
      "Total time elapsed: 00:03:00\n",
      "0% [##############################] 100% | ETA: 00:00:00\n",
      "Total time elapsed: 00:00:05\n",
      "Metadata file is not present in the given path; proceeding to read the csv file.\n",
      "Column Battery Life does not seem to qualify as any atomic type. It may contain all NaNs. Please update the values of column Battery Life\n",
      "0% [##############################] 100% | ETA: 00:00:00\n",
      "Total time elapsed: 00:00:00\n",
      "0% [##############################] 100% | ETA: 00:00:00\n",
      "Total time elapsed: 00:00:31\n"
     ]
    }
   ],
   "source": [
    "# Get the matches from our entity matching workflow\n",
    "matches = workflow(path_walmart, path_amazon, path_labeled)\n",
    "matches.to_csv(path_matches, index=False)"
   ]
  },
  {
   "cell_type": "code",
   "execution_count": 4,
   "metadata": {},
   "outputs": [
    {
     "data": {
      "text/html": [
       "<div>\n",
       "<style scoped>\n",
       "    .dataframe tbody tr th:only-of-type {\n",
       "        vertical-align: middle;\n",
       "    }\n",
       "\n",
       "    .dataframe tbody tr th {\n",
       "        vertical-align: top;\n",
       "    }\n",
       "\n",
       "    .dataframe thead th {\n",
       "        text-align: right;\n",
       "    }\n",
       "</style>\n",
       "<table border=\"1\" class=\"dataframe\">\n",
       "  <thead>\n",
       "    <tr style=\"text-align: right;\">\n",
       "      <th></th>\n",
       "      <th>_id</th>\n",
       "      <th>ltable_ID</th>\n",
       "      <th>rtable_ID</th>\n",
       "      <th>predicted</th>\n",
       "    </tr>\n",
       "  </thead>\n",
       "  <tbody>\n",
       "    <tr>\n",
       "      <th>1699</th>\n",
       "      <td>1699</td>\n",
       "      <td>1</td>\n",
       "      <td>10</td>\n",
       "      <td>1</td>\n",
       "    </tr>\n",
       "    <tr>\n",
       "      <th>1711</th>\n",
       "      <td>1711</td>\n",
       "      <td>1</td>\n",
       "      <td>32</td>\n",
       "      <td>1</td>\n",
       "    </tr>\n",
       "    <tr>\n",
       "      <th>1723</th>\n",
       "      <td>1723</td>\n",
       "      <td>1</td>\n",
       "      <td>54</td>\n",
       "      <td>1</td>\n",
       "    </tr>\n",
       "    <tr>\n",
       "      <th>1735</th>\n",
       "      <td>1735</td>\n",
       "      <td>1</td>\n",
       "      <td>76</td>\n",
       "      <td>1</td>\n",
       "    </tr>\n",
       "    <tr>\n",
       "      <th>1747</th>\n",
       "      <td>1747</td>\n",
       "      <td>1</td>\n",
       "      <td>98</td>\n",
       "      <td>1</td>\n",
       "    </tr>\n",
       "  </tbody>\n",
       "</table>\n",
       "</div>"
      ],
      "text/plain": [
       "       _id  ltable_ID  rtable_ID  predicted\n",
       "1699  1699          1         10          1\n",
       "1711  1711          1         32          1\n",
       "1723  1723          1         54          1\n",
       "1735  1735          1         76          1\n",
       "1747  1747          1         98          1"
      ]
     },
     "execution_count": 4,
     "metadata": {},
     "output_type": "execute_result"
    }
   ],
   "source": [
    "# Let's take a look at the matches dataframe\n",
    "matches.head()"
   ]
  },
  {
   "cell_type": "markdown",
   "metadata": {},
   "source": [
    "### Merging the Tables\n",
    "\n",
    "Now that we have found the matches, we can merge the tables together. Most of the tuples in the walmart table did not match with any tuples in the amazon table. However, those that did generallly matched with many tuples in the amazon data. On the other hand, many of the tuples in the amazon table matched with a tuple in the walmart data set.\n",
    "\n",
    "In light of these finding, we decided to merge each tuple from the walmart data and each of its matches from the amazon data. For the most part, we decided to keep the value in the walmart table. However, if this value was missing, we chose the most common value from the list of matching tuples from the amazon table for that attribute. The exceptions to this rule are price, which we took the average among all the matching tuples, and the processor speed, which was generally cleaner in the amaon table so we took the most common value from the tuples from the amazon table."
   ]
  },
  {
   "cell_type": "code",
   "execution_count": 5,
   "metadata": {},
   "outputs": [],
   "source": [
    "# Load the tables\n",
    "walmart = pd.read_csv(path_walmart)\n",
    "amazon = pd.read_csv(path_amazon)\n",
    "matches = pd.read_csv(path_matches)"
   ]
  },
  {
   "cell_type": "code",
   "execution_count": 6,
   "metadata": {},
   "outputs": [
    {
     "data": {
      "text/html": [
       "<div>\n",
       "<style scoped>\n",
       "    .dataframe tbody tr th:only-of-type {\n",
       "        vertical-align: middle;\n",
       "    }\n",
       "\n",
       "    .dataframe tbody tr th {\n",
       "        vertical-align: top;\n",
       "    }\n",
       "\n",
       "    .dataframe thead th {\n",
       "        text-align: right;\n",
       "    }\n",
       "</style>\n",
       "<table border=\"1\" class=\"dataframe\">\n",
       "  <thead>\n",
       "    <tr style=\"text-align: right;\">\n",
       "      <th></th>\n",
       "      <th>ID</th>\n",
       "      <th>Name</th>\n",
       "      <th>Price</th>\n",
       "      <th>Brand</th>\n",
       "      <th>Screen Size</th>\n",
       "      <th>RAM</th>\n",
       "      <th>Hard Drive Capacity</th>\n",
       "      <th>Processor Type</th>\n",
       "      <th>Processor Speed</th>\n",
       "      <th>Operating System</th>\n",
       "      <th>Battery Life</th>\n",
       "    </tr>\n",
       "  </thead>\n",
       "  <tbody>\n",
       "    <tr>\n",
       "      <th>0</th>\n",
       "      <td>0</td>\n",
       "      <td>HP Flyer Red 15.6\" 15-f272wm Laptop PC with Intel Pentium N3540 Processor, 4GB Memory, 500GB Har...</td>\n",
       "      <td>299.00</td>\n",
       "      <td>HP</td>\n",
       "      <td>15.6 in</td>\n",
       "      <td>4 GB</td>\n",
       "      <td>500  GB</td>\n",
       "      <td>Intel Pentium</td>\n",
       "      <td>2.16 GHz, with a Max Turbo Speed of 2.66 GHz</td>\n",
       "      <td>Windows 10</td>\n",
       "      <td>4.5 hours</td>\n",
       "    </tr>\n",
       "    <tr>\n",
       "      <th>1</th>\n",
       "      <td>2</td>\n",
       "      <td>HP Stream 11.6\" Laptop, Windows 10 Home, Office 365 Personal 1-year subscription included, Intel...</td>\n",
       "      <td>199.00</td>\n",
       "      <td>HP</td>\n",
       "      <td>11.6 in</td>\n",
       "      <td>4 GB</td>\n",
       "      <td>32 GB</td>\n",
       "      <td>Intel Celeron</td>\n",
       "      <td>1.6 Hz</td>\n",
       "      <td>Windows 10</td>\n",
       "      <td>10 h</td>\n",
       "    </tr>\n",
       "    <tr>\n",
       "      <th>2</th>\n",
       "      <td>4</td>\n",
       "      <td>HP Black Licorice 15.6\" 15-F387WM Laptop PC with AMD A8-7410 Processor, 4GB Memory, touch screen...</td>\n",
       "      <td>329.00</td>\n",
       "      <td>HP</td>\n",
       "      <td>15.6 in</td>\n",
       "      <td>4 GB</td>\n",
       "      <td>500  GB</td>\n",
       "      <td>AMD A-Series</td>\n",
       "      <td>2.20 GHz, with a Max Turbo Speed of 2.50 GHz</td>\n",
       "      <td>Windows 10</td>\n",
       "      <td>NaN</td>\n",
       "    </tr>\n",
       "    <tr>\n",
       "      <th>3</th>\n",
       "      <td>5</td>\n",
       "      <td>HP Silver Iridium Ci5 15-cc050wm 15.6\" Laptop, Touchscreen, Windows 10 Home, Intel Core i5-7200U...</td>\n",
       "      <td>569.00</td>\n",
       "      <td>HP</td>\n",
       "      <td>15.6 in</td>\n",
       "      <td>12 GB</td>\n",
       "      <td>1 GB</td>\n",
       "      <td>7th Generation Intel Core i5-7200U Processor</td>\n",
       "      <td>2500 Hz</td>\n",
       "      <td>Windows 10</td>\n",
       "      <td>9.00 h</td>\n",
       "    </tr>\n",
       "    <tr>\n",
       "      <th>4</th>\n",
       "      <td>8</td>\n",
       "      <td>HP 15-bw032WM 15.6\" Laptop Bundle, Windows 10, AMD A12-9720 Quad Core Processor, 8GB Memory, 1TB...</td>\n",
       "      <td>391.76</td>\n",
       "      <td>HP</td>\n",
       "      <td>15.6 in</td>\n",
       "      <td>8 GB</td>\n",
       "      <td>1 KB</td>\n",
       "      <td>NaN</td>\n",
       "      <td>NaN</td>\n",
       "      <td>Microsoft Windows, @generated</td>\n",
       "      <td>NaN</td>\n",
       "    </tr>\n",
       "  </tbody>\n",
       "</table>\n",
       "</div>"
      ],
      "text/plain": [
       "   ID  \\\n",
       "0   0   \n",
       "1   2   \n",
       "2   4   \n",
       "3   5   \n",
       "4   8   \n",
       "\n",
       "                                                                                                  Name  \\\n",
       "0  HP Flyer Red 15.6\" 15-f272wm Laptop PC with Intel Pentium N3540 Processor, 4GB Memory, 500GB Har...   \n",
       "1  HP Stream 11.6\" Laptop, Windows 10 Home, Office 365 Personal 1-year subscription included, Intel...   \n",
       "2  HP Black Licorice 15.6\" 15-F387WM Laptop PC with AMD A8-7410 Processor, 4GB Memory, touch screen...   \n",
       "3  HP Silver Iridium Ci5 15-cc050wm 15.6\" Laptop, Touchscreen, Windows 10 Home, Intel Core i5-7200U...   \n",
       "4  HP 15-bw032WM 15.6\" Laptop Bundle, Windows 10, AMD A12-9720 Quad Core Processor, 8GB Memory, 1TB...   \n",
       "\n",
       "    Price Brand Screen Size    RAM Hard Drive Capacity  \\\n",
       "0  299.00    HP     15.6 in   4 GB             500  GB   \n",
       "1  199.00    HP     11.6 in   4 GB               32 GB   \n",
       "2  329.00    HP     15.6 in   4 GB             500  GB   \n",
       "3  569.00    HP     15.6 in  12 GB                1 GB   \n",
       "4  391.76    HP     15.6 in   8 GB                1 KB   \n",
       "\n",
       "                                 Processor Type  \\\n",
       "0                                 Intel Pentium   \n",
       "1                                 Intel Celeron   \n",
       "2                                  AMD A-Series   \n",
       "3  7th Generation Intel Core i5-7200U Processor   \n",
       "4                                           NaN   \n",
       "\n",
       "                                Processor Speed  \\\n",
       "0  2.16 GHz, with a Max Turbo Speed of 2.66 GHz   \n",
       "1                                        1.6 Hz   \n",
       "2  2.20 GHz, with a Max Turbo Speed of 2.50 GHz   \n",
       "3                                       2500 Hz   \n",
       "4                                           NaN   \n",
       "\n",
       "                Operating System Battery Life  \n",
       "0                     Windows 10    4.5 hours  \n",
       "1                     Windows 10         10 h  \n",
       "2                     Windows 10          NaN  \n",
       "3                     Windows 10       9.00 h  \n",
       "4  Microsoft Windows, @generated          NaN  "
      ]
     },
     "execution_count": 6,
     "metadata": {},
     "output_type": "execute_result"
    }
   ],
   "source": [
    "# Merge the two tables\n",
    "data = merge_tables(walmart, amazon, matches)\n",
    "data.to_csv('../Data/Merged_Table.csv', index=False)\n",
    "data.head()"
   ]
  },
  {
   "cell_type": "code",
   "execution_count": 7,
   "metadata": {},
   "outputs": [
    {
     "name": "stdout",
     "output_type": "stream",
     "text": [
      "Length of Merged Data Set = 4162\n"
     ]
    }
   ],
   "source": [
    "print('Length of Merged Data Set = ' + str(len(data)))"
   ]
  }
 ],
 "metadata": {
  "kernelspec": {
   "display_name": "Python 3",
   "language": "python",
   "name": "python3"
  },
  "language_info": {
   "codemirror_mode": {
    "name": "ipython",
    "version": 3
   },
   "file_extension": ".py",
   "mimetype": "text/x-python",
   "name": "python",
   "nbconvert_exporter": "python",
   "pygments_lexer": "ipython3",
   "version": "3.6.4"
  }
 },
 "nbformat": 4,
 "nbformat_minor": 2
}
