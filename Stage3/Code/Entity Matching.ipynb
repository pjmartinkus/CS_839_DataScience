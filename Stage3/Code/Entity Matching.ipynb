{
 "cells": [
  {
   "cell_type": "markdown",
   "metadata": {},
   "source": [
    "# Entity Matching for Walmart and Amazon Laptop Data\n",
    "\n",
    "In this notebook, we will show how we used Magellan to match two data tables containing product data for laptops. The first of these tables, saved in the Walmart.csv file, was retrieved from Walmart's website and the second, stored in Amazon.csv, was obtained from Amazon's website.\n",
    "\n",
    "In this notebook we will describe how we go from two seperate data tables to an entity mathcing pipeline that can be used to find all the matches between the tables."
   ]
  },
  {
   "cell_type": "code",
   "execution_count": 1,
   "metadata": {},
   "outputs": [],
   "source": [
    "import sys, re\n",
    "sys.path.append('/u/p/m/pmartinkus/Documents/CS_838/Stage 2')\n",
    "\n",
    "import HW3 as hw\n",
    "import pandas as pd\n",
    "import numpy as np\n",
    "import py_entitymatching as em\n",
    "\n",
    "import warnings\n",
    "warnings.filterwarnings('ignore')"
   ]
  },
  {
   "cell_type": "markdown",
   "metadata": {},
   "source": [
    "## Cleaning the Data\n",
    "\n",
    "First we need to clean the data. There are some major problems with the data that we need to address:\n",
    "\n",
    "1. The capacity columns (RAM and HDD) are dirty in both tables. In the walmart data set, the RAM and hard-drive capacities are often listed in KB when in reality they should be GB. Additionally, in the amazon data set, the RAM of many laptops is listed as 6GB when in reality it should be 8GB. Lastly, in both data sets, sometimes the capicity is listed as 1000 Gb and other times as 1 TB. \n",
    "2. In the amazon data set, sometimes the brand Lenovo is listed as Lenovo_320. We need to change all occurances of Lenovo_320 to just Lenovo. This will be very useful to us later in the blocking step.\n",
    "3. For both data sets, the names are very long and contain plenty of additional information such as the hard drive capacity or the processor type. We will add an extra column called 'Clean Name' that has some of this additional information removed. This will help us match together names.\n",
    "4. For both data sets, we need to update the format of the tables to match the requirements for py_entitymatching"
   ]
  },
  {
   "cell_type": "code",
   "execution_count": 2,
   "metadata": {},
   "outputs": [],
   "source": [
    "# First let's read in our two data tables\n",
    "path = '/u/p/m/pmartinkus/Documents/CS_838/Stage3/Data/'\n",
    "\n",
    "walmart = pd.read_csv(path+'Walmart.csv', quotechar=\"'\")\n",
    "amazon = pd.read_csv(path+'Amazon.csv', quotechar=\"'\")"
   ]
  },
  {
   "cell_type": "markdown",
   "metadata": {},
   "source": [
    "### 1. Cleaning the RAM and Hard Drive Capacity Columns\n",
    "\n",
    "First lets fix the capacity columns in each table. There are several occurances of 'KB' that should really be 'GB' in the walmart table, the RAM for several laptops in the amazon data is 6GB when it should really be 8, and both tables interchange between using 1000 GB and 1 TB. "
   ]
  },
  {
   "cell_type": "code",
   "execution_count": 3,
   "metadata": {},
   "outputs": [
    {
     "data": {
      "text/html": [
       "<div>\n",
       "<style scoped>\n",
       "    .dataframe tbody tr th:only-of-type {\n",
       "        vertical-align: middle;\n",
       "    }\n",
       "\n",
       "    .dataframe tbody tr th {\n",
       "        vertical-align: top;\n",
       "    }\n",
       "\n",
       "    .dataframe thead th {\n",
       "        text-align: right;\n",
       "    }\n",
       "</style>\n",
       "<table border=\"1\" class=\"dataframe\">\n",
       "  <thead>\n",
       "    <tr style=\"text-align: right;\">\n",
       "      <th></th>\n",
       "      <th>Name</th>\n",
       "      <th>Price</th>\n",
       "      <th>Brand</th>\n",
       "      <th>Screen Size</th>\n",
       "      <th>RAM</th>\n",
       "      <th>Hard Drive Capacity</th>\n",
       "      <th>Processor Type</th>\n",
       "      <th>Processor Speed</th>\n",
       "      <th>Operating System</th>\n",
       "      <th>Battery Life</th>\n",
       "    </tr>\n",
       "  </thead>\n",
       "  <tbody>\n",
       "    <tr>\n",
       "      <th>1</th>\n",
       "      <td>HP Stream 14-ax030wm 14” Smoke Gray, Windows 10 Home, Office 365 Personal 1-year included, Intel...</td>\n",
       "      <td>219.0</td>\n",
       "      <td>HP</td>\n",
       "      <td>14 in</td>\n",
       "      <td>4 KB</td>\n",
       "      <td>32 KB</td>\n",
       "      <td>Intel Celeron Processor N3060</td>\n",
       "      <td>1.6 Hz</td>\n",
       "      <td>Windows 10</td>\n",
       "      <td>10.25 h</td>\n",
       "    </tr>\n",
       "  </tbody>\n",
       "</table>\n",
       "</div>"
      ],
      "text/plain": [
       "                                                                                                  Name  \\\n",
       "1  HP Stream 14-ax030wm 14” Smoke Gray, Windows 10 Home, Office 365 Personal 1-year included, Intel...   \n",
       "\n",
       "   Price Brand Screen Size   RAM Hard Drive Capacity  \\\n",
       "1  219.0    HP       14 in  4 KB               32 KB   \n",
       "\n",
       "                  Processor Type Processor Speed Operating System Battery Life  \n",
       "1  Intel Celeron Processor N3060          1.6 Hz       Windows 10      10.25 h  "
      ]
     },
     "execution_count": 3,
     "metadata": {},
     "output_type": "execute_result"
    }
   ],
   "source": [
    "# We can see how capacities in the walmart table use 'KB' instead of 'GB' in the first few entires of the file.\n",
    "walmart.iloc[1:2]"
   ]
  },
  {
   "cell_type": "code",
   "execution_count": 4,
   "metadata": {},
   "outputs": [
    {
     "data": {
      "text/html": [
       "<div>\n",
       "<style scoped>\n",
       "    .dataframe tbody tr th:only-of-type {\n",
       "        vertical-align: middle;\n",
       "    }\n",
       "\n",
       "    .dataframe tbody tr th {\n",
       "        vertical-align: top;\n",
       "    }\n",
       "\n",
       "    .dataframe thead th {\n",
       "        text-align: right;\n",
       "    }\n",
       "</style>\n",
       "<table border=\"1\" class=\"dataframe\">\n",
       "  <thead>\n",
       "    <tr style=\"text-align: right;\">\n",
       "      <th></th>\n",
       "      <th>Name</th>\n",
       "      <th>Price</th>\n",
       "      <th>Brand</th>\n",
       "      <th>Screen Size</th>\n",
       "      <th>RAM</th>\n",
       "      <th>Hard Drive Capacity</th>\n",
       "      <th>Processor Type</th>\n",
       "      <th>Processor Speed</th>\n",
       "      <th>Operating System</th>\n",
       "      <th>Battery Life</th>\n",
       "    </tr>\n",
       "  </thead>\n",
       "  <tbody>\n",
       "    <tr>\n",
       "      <th>20</th>\n",
       "      <td>2018 Lenovo Business Flagship Laptop PC 15.6\" Anti-Glare Touchscreen Intel 8th Gen i5-8250U Quad...</td>\n",
       "      <td>599.0</td>\n",
       "      <td>Lenovo_320</td>\n",
       "      <td>15.6 in</td>\n",
       "      <td>8 GB</td>\n",
       "      <td>1 TB</td>\n",
       "      <td>Intel</td>\n",
       "      <td>1.6 GHz</td>\n",
       "      <td>windows 10</td>\n",
       "      <td>NaN</td>\n",
       "    </tr>\n",
       "    <tr>\n",
       "      <th>21</th>\n",
       "      <td>ASUS VivoBook F510UA FHD Laptop, Intel Core i5-8250U, 8GB RAM, 1TB HDD, USB-C, NanoEdge Display,...</td>\n",
       "      <td>509.0</td>\n",
       "      <td>Asus</td>\n",
       "      <td>15.6 in</td>\n",
       "      <td>8 GB</td>\n",
       "      <td>1,000 GB</td>\n",
       "      <td>Intel</td>\n",
       "      <td>1.6 GHz</td>\n",
       "      <td>Windows 10</td>\n",
       "      <td>NaN</td>\n",
       "    </tr>\n",
       "  </tbody>\n",
       "</table>\n",
       "</div>"
      ],
      "text/plain": [
       "                                                                                                   Name  \\\n",
       "20  2018 Lenovo Business Flagship Laptop PC 15.6\" Anti-Glare Touchscreen Intel 8th Gen i5-8250U Quad...   \n",
       "21  ASUS VivoBook F510UA FHD Laptop, Intel Core i5-8250U, 8GB RAM, 1TB HDD, USB-C, NanoEdge Display,...   \n",
       "\n",
       "    Price       Brand Screen Size   RAM Hard Drive Capacity Processor Type  \\\n",
       "20  599.0  Lenovo_320     15.6 in  8 GB                1 TB          Intel   \n",
       "21  509.0        Asus     15.6 in  8 GB            1,000 GB          Intel   \n",
       "\n",
       "   Processor Speed Operating System  Battery Life  \n",
       "20         1.6 GHz       windows 10           NaN  \n",
       "21         1.6 GHz       Windows 10           NaN  "
      ]
     },
     "execution_count": 4,
     "metadata": {},
     "output_type": "execute_result"
    }
   ],
   "source": [
    "# Here we can see how the data interchanges between using 1000 GB and 1 TB for hard drive capacity\n",
    "amazon.iloc[20:22]"
   ]
  },
  {
   "cell_type": "code",
   "execution_count": 5,
   "metadata": {},
   "outputs": [
    {
     "data": {
      "text/html": [
       "<div>\n",
       "<style scoped>\n",
       "    .dataframe tbody tr th:only-of-type {\n",
       "        vertical-align: middle;\n",
       "    }\n",
       "\n",
       "    .dataframe tbody tr th {\n",
       "        vertical-align: top;\n",
       "    }\n",
       "\n",
       "    .dataframe thead th {\n",
       "        text-align: right;\n",
       "    }\n",
       "</style>\n",
       "<table border=\"1\" class=\"dataframe\">\n",
       "  <thead>\n",
       "    <tr style=\"text-align: right;\">\n",
       "      <th></th>\n",
       "      <th>Name</th>\n",
       "      <th>Price</th>\n",
       "      <th>Brand</th>\n",
       "      <th>Screen Size</th>\n",
       "      <th>RAM</th>\n",
       "      <th>Hard Drive Capacity</th>\n",
       "      <th>Processor Type</th>\n",
       "      <th>Processor Speed</th>\n",
       "      <th>Operating System</th>\n",
       "      <th>Battery Life</th>\n",
       "    </tr>\n",
       "  </thead>\n",
       "  <tbody>\n",
       "    <tr>\n",
       "      <th>1</th>\n",
       "      <td>HP Stream 14-ax030wm 14” Smoke Gray, Windows 10 Home, Office 365 Personal 1-year included, Intel...</td>\n",
       "      <td>219.0</td>\n",
       "      <td>HP</td>\n",
       "      <td>14 in</td>\n",
       "      <td>4 GB</td>\n",
       "      <td>32 GB</td>\n",
       "      <td>Intel Celeron Processor N3060</td>\n",
       "      <td>1.6 Hz</td>\n",
       "      <td>Windows 10</td>\n",
       "      <td>10.25 h</td>\n",
       "    </tr>\n",
       "  </tbody>\n",
       "</table>\n",
       "</div>"
      ],
      "text/plain": [
       "                                                                                                  Name  \\\n",
       "1  HP Stream 14-ax030wm 14” Smoke Gray, Windows 10 Home, Office 365 Personal 1-year included, Intel...   \n",
       "\n",
       "   Price Brand Screen Size   RAM Hard Drive Capacity  \\\n",
       "1  219.0    HP       14 in  4 GB               32 GB   \n",
       "\n",
       "                  Processor Type Processor Speed Operating System Battery Life  \n",
       "1  Intel Celeron Processor N3060          1.6 Hz       Windows 10      10.25 h  "
      ]
     },
     "execution_count": 5,
     "metadata": {},
     "output_type": "execute_result"
    }
   ],
   "source": [
    "# Clean the capacity values in the walmart dataframe\n",
    "hw.clean_capacity(walmart)\n",
    "walmart.iloc[1:2]"
   ]
  },
  {
   "cell_type": "code",
   "execution_count": 6,
   "metadata": {},
   "outputs": [
    {
     "data": {
      "text/html": [
       "<div>\n",
       "<style scoped>\n",
       "    .dataframe tbody tr th:only-of-type {\n",
       "        vertical-align: middle;\n",
       "    }\n",
       "\n",
       "    .dataframe tbody tr th {\n",
       "        vertical-align: top;\n",
       "    }\n",
       "\n",
       "    .dataframe thead th {\n",
       "        text-align: right;\n",
       "    }\n",
       "</style>\n",
       "<table border=\"1\" class=\"dataframe\">\n",
       "  <thead>\n",
       "    <tr style=\"text-align: right;\">\n",
       "      <th></th>\n",
       "      <th>Name</th>\n",
       "      <th>Price</th>\n",
       "      <th>Brand</th>\n",
       "      <th>Screen Size</th>\n",
       "      <th>RAM</th>\n",
       "      <th>Hard Drive Capacity</th>\n",
       "      <th>Processor Type</th>\n",
       "      <th>Processor Speed</th>\n",
       "      <th>Operating System</th>\n",
       "      <th>Battery Life</th>\n",
       "    </tr>\n",
       "  </thead>\n",
       "  <tbody>\n",
       "    <tr>\n",
       "      <th>20</th>\n",
       "      <td>2018 Lenovo Business Flagship Laptop PC 15.6\" Anti-Glare Touchscreen Intel 8th Gen i5-8250U Quad...</td>\n",
       "      <td>599.0</td>\n",
       "      <td>Lenovo_320</td>\n",
       "      <td>15.6 in</td>\n",
       "      <td>8 GB</td>\n",
       "      <td>1 TB</td>\n",
       "      <td>Intel</td>\n",
       "      <td>1.6 GHz</td>\n",
       "      <td>windows 10</td>\n",
       "      <td>NaN</td>\n",
       "    </tr>\n",
       "    <tr>\n",
       "      <th>21</th>\n",
       "      <td>ASUS VivoBook F510UA FHD Laptop, Intel Core i5-8250U, 8GB RAM, 1TB HDD, USB-C, NanoEdge Display,...</td>\n",
       "      <td>509.0</td>\n",
       "      <td>Asus</td>\n",
       "      <td>15.6 in</td>\n",
       "      <td>8 GB</td>\n",
       "      <td>1 TB</td>\n",
       "      <td>Intel</td>\n",
       "      <td>1.6 GHz</td>\n",
       "      <td>Windows 10</td>\n",
       "      <td>NaN</td>\n",
       "    </tr>\n",
       "  </tbody>\n",
       "</table>\n",
       "</div>"
      ],
      "text/plain": [
       "                                                                                                   Name  \\\n",
       "20  2018 Lenovo Business Flagship Laptop PC 15.6\" Anti-Glare Touchscreen Intel 8th Gen i5-8250U Quad...   \n",
       "21  ASUS VivoBook F510UA FHD Laptop, Intel Core i5-8250U, 8GB RAM, 1TB HDD, USB-C, NanoEdge Display,...   \n",
       "\n",
       "    Price       Brand Screen Size   RAM Hard Drive Capacity Processor Type  \\\n",
       "20  599.0  Lenovo_320     15.6 in  8 GB                1 TB          Intel   \n",
       "21  509.0        Asus     15.6 in  8 GB                1 TB          Intel   \n",
       "\n",
       "   Processor Speed Operating System  Battery Life  \n",
       "20         1.6 GHz       windows 10           NaN  \n",
       "21         1.6 GHz       Windows 10           NaN  "
      ]
     },
     "execution_count": 6,
     "metadata": {},
     "output_type": "execute_result"
    }
   ],
   "source": [
    "# Clean the capacity values in the amazon dataframe\n",
    "hw.clean_capacity(amazon)\n",
    "amazon.iloc[20:22]"
   ]
  },
  {
   "cell_type": "markdown",
   "metadata": {},
   "source": [
    "### 2. Cleaning the Brand name in the Amazon Data\n",
    "\n",
    "With the Walmart data set cleaned, we can move on to fixing the Lenovo_320 problem in the Amazon data."
   ]
  },
  {
   "cell_type": "code",
   "execution_count": 7,
   "metadata": {},
   "outputs": [
    {
     "data": {
      "text/html": [
       "<div>\n",
       "<style scoped>\n",
       "    .dataframe tbody tr th:only-of-type {\n",
       "        vertical-align: middle;\n",
       "    }\n",
       "\n",
       "    .dataframe tbody tr th {\n",
       "        vertical-align: top;\n",
       "    }\n",
       "\n",
       "    .dataframe thead th {\n",
       "        text-align: right;\n",
       "    }\n",
       "</style>\n",
       "<table border=\"1\" class=\"dataframe\">\n",
       "  <thead>\n",
       "    <tr style=\"text-align: right;\">\n",
       "      <th></th>\n",
       "      <th>Name</th>\n",
       "      <th>Price</th>\n",
       "      <th>Brand</th>\n",
       "      <th>Screen Size</th>\n",
       "      <th>RAM</th>\n",
       "      <th>Hard Drive Capacity</th>\n",
       "      <th>Processor Type</th>\n",
       "      <th>Processor Speed</th>\n",
       "      <th>Operating System</th>\n",
       "      <th>Battery Life</th>\n",
       "    </tr>\n",
       "  </thead>\n",
       "  <tbody>\n",
       "    <tr>\n",
       "      <th>20</th>\n",
       "      <td>2018 Lenovo Business Flagship Laptop PC 15.6\" Anti-Glare Touchscreen Intel 8th Gen i5-8250U Quad...</td>\n",
       "      <td>599.0</td>\n",
       "      <td>Lenovo_320</td>\n",
       "      <td>15.6 in</td>\n",
       "      <td>8 GB</td>\n",
       "      <td>1 TB</td>\n",
       "      <td>Intel</td>\n",
       "      <td>1.6 GHz</td>\n",
       "      <td>windows 10</td>\n",
       "      <td>NaN</td>\n",
       "    </tr>\n",
       "    <tr>\n",
       "      <th>42</th>\n",
       "      <td>2018 Lenovo Business Flagship Laptop PC 15.6\" Anti-Glare Touchscreen Intel 8th Gen i5-8250U Quad...</td>\n",
       "      <td>599.0</td>\n",
       "      <td>Lenovo_320</td>\n",
       "      <td>15.6 in</td>\n",
       "      <td>8 GB</td>\n",
       "      <td>1 TB</td>\n",
       "      <td>Intel</td>\n",
       "      <td>1.6 GHz</td>\n",
       "      <td>windows 10</td>\n",
       "      <td>NaN</td>\n",
       "    </tr>\n",
       "  </tbody>\n",
       "</table>\n",
       "</div>"
      ],
      "text/plain": [
       "                                                                                                   Name  \\\n",
       "20  2018 Lenovo Business Flagship Laptop PC 15.6\" Anti-Glare Touchscreen Intel 8th Gen i5-8250U Quad...   \n",
       "42  2018 Lenovo Business Flagship Laptop PC 15.6\" Anti-Glare Touchscreen Intel 8th Gen i5-8250U Quad...   \n",
       "\n",
       "    Price       Brand Screen Size   RAM Hard Drive Capacity Processor Type  \\\n",
       "20  599.0  Lenovo_320     15.6 in  8 GB                1 TB          Intel   \n",
       "42  599.0  Lenovo_320     15.6 in  8 GB                1 TB          Intel   \n",
       "\n",
       "   Processor Speed Operating System  Battery Life  \n",
       "20         1.6 GHz       windows 10           NaN  \n",
       "42         1.6 GHz       windows 10           NaN  "
      ]
     },
     "execution_count": 7,
     "metadata": {},
     "output_type": "execute_result"
    }
   ],
   "source": [
    "# We can see that Lenovo is often listed as Lenovo_320\n",
    "amazon[amazon['Brand'] == 'Lenovo_320'].head(2)"
   ]
  },
  {
   "cell_type": "code",
   "execution_count": 8,
   "metadata": {},
   "outputs": [
    {
     "data": {
      "text/html": [
       "<div>\n",
       "<style scoped>\n",
       "    .dataframe tbody tr th:only-of-type {\n",
       "        vertical-align: middle;\n",
       "    }\n",
       "\n",
       "    .dataframe tbody tr th {\n",
       "        vertical-align: top;\n",
       "    }\n",
       "\n",
       "    .dataframe thead th {\n",
       "        text-align: right;\n",
       "    }\n",
       "</style>\n",
       "<table border=\"1\" class=\"dataframe\">\n",
       "  <thead>\n",
       "    <tr style=\"text-align: right;\">\n",
       "      <th></th>\n",
       "      <th>Name</th>\n",
       "      <th>Price</th>\n",
       "      <th>Brand</th>\n",
       "      <th>Screen Size</th>\n",
       "      <th>RAM</th>\n",
       "      <th>Hard Drive Capacity</th>\n",
       "      <th>Processor Type</th>\n",
       "      <th>Processor Speed</th>\n",
       "      <th>Operating System</th>\n",
       "      <th>Battery Life</th>\n",
       "    </tr>\n",
       "  </thead>\n",
       "  <tbody>\n",
       "    <tr>\n",
       "      <th>20</th>\n",
       "      <td>2018 Lenovo Business Flagship Laptop PC 15.6\" Anti-Glare Touchscreen Intel 8th Gen i5-8250U Quad...</td>\n",
       "      <td>599.0</td>\n",
       "      <td>Lenovo</td>\n",
       "      <td>15.6 in</td>\n",
       "      <td>8 GB</td>\n",
       "      <td>1 TB</td>\n",
       "      <td>Intel</td>\n",
       "      <td>1.6 GHz</td>\n",
       "      <td>windows 10</td>\n",
       "      <td>NaN</td>\n",
       "    </tr>\n",
       "    <tr>\n",
       "      <th>42</th>\n",
       "      <td>2018 Lenovo Business Flagship Laptop PC 15.6\" Anti-Glare Touchscreen Intel 8th Gen i5-8250U Quad...</td>\n",
       "      <td>599.0</td>\n",
       "      <td>Lenovo</td>\n",
       "      <td>15.6 in</td>\n",
       "      <td>8 GB</td>\n",
       "      <td>1 TB</td>\n",
       "      <td>Intel</td>\n",
       "      <td>1.6 GHz</td>\n",
       "      <td>windows 10</td>\n",
       "      <td>NaN</td>\n",
       "    </tr>\n",
       "  </tbody>\n",
       "</table>\n",
       "</div>"
      ],
      "text/plain": [
       "                                                                                                   Name  \\\n",
       "20  2018 Lenovo Business Flagship Laptop PC 15.6\" Anti-Glare Touchscreen Intel 8th Gen i5-8250U Quad...   \n",
       "42  2018 Lenovo Business Flagship Laptop PC 15.6\" Anti-Glare Touchscreen Intel 8th Gen i5-8250U Quad...   \n",
       "\n",
       "    Price   Brand Screen Size   RAM Hard Drive Capacity Processor Type  \\\n",
       "20  599.0  Lenovo     15.6 in  8 GB                1 TB          Intel   \n",
       "42  599.0  Lenovo     15.6 in  8 GB                1 TB          Intel   \n",
       "\n",
       "   Processor Speed Operating System  Battery Life  \n",
       "20         1.6 GHz       windows 10           NaN  \n",
       "42         1.6 GHz       windows 10           NaN  "
      ]
     },
     "execution_count": 8,
     "metadata": {},
     "output_type": "execute_result"
    }
   ],
   "source": [
    "# Clean the brand values in the amazon dataframe\n",
    "hw.clean_brands(amazon)\n",
    "amazon.iloc[[20,42],:]"
   ]
  },
  {
   "cell_type": "markdown",
   "metadata": {},
   "source": [
    "### 3. Creating the 'Clean Name' Column\n",
    "\n",
    "Next we will work on creating the 'Clean Name' column. The common_words() function generates a list of common words from the laptop names and the clean_names() function adds the additional column with the common words removed from the names."
   ]
  },
  {
   "cell_type": "code",
   "execution_count": 9,
   "metadata": {},
   "outputs": [
    {
     "data": {
      "text/html": [
       "<div>\n",
       "<style scoped>\n",
       "    .dataframe tbody tr th:only-of-type {\n",
       "        vertical-align: middle;\n",
       "    }\n",
       "\n",
       "    .dataframe tbody tr th {\n",
       "        vertical-align: top;\n",
       "    }\n",
       "\n",
       "    .dataframe thead th {\n",
       "        text-align: right;\n",
       "    }\n",
       "</style>\n",
       "<table border=\"1\" class=\"dataframe\">\n",
       "  <thead>\n",
       "    <tr style=\"text-align: right;\">\n",
       "      <th></th>\n",
       "      <th>Name</th>\n",
       "      <th>Price</th>\n",
       "      <th>Brand</th>\n",
       "      <th>Screen Size</th>\n",
       "      <th>RAM</th>\n",
       "      <th>Hard Drive Capacity</th>\n",
       "      <th>Processor Type</th>\n",
       "      <th>Processor Speed</th>\n",
       "      <th>Operating System</th>\n",
       "      <th>Battery Life</th>\n",
       "      <th>Clean Name</th>\n",
       "    </tr>\n",
       "  </thead>\n",
       "  <tbody>\n",
       "    <tr>\n",
       "      <th>0</th>\n",
       "      <td>HP Flyer Red 15.6\" 15-f272wm Laptop PC with Intel Pentium N3540 Processor, 4GB Memory, 500GB Har...</td>\n",
       "      <td>299.0</td>\n",
       "      <td>HP</td>\n",
       "      <td>15.6 in</td>\n",
       "      <td>4 GB</td>\n",
       "      <td>500  GB</td>\n",
       "      <td>Intel Pentium</td>\n",
       "      <td>2.16 GHz, with a Max Turbo Speed of 2.66 GHz</td>\n",
       "      <td>Windows 10</td>\n",
       "      <td>4.5 hours</td>\n",
       "      <td>Flyer Red f272wm Intel Pentium N3540 Drive</td>\n",
       "    </tr>\n",
       "    <tr>\n",
       "      <th>1</th>\n",
       "      <td>HP Stream 14-ax030wm 14” Smoke Gray, Windows 10 Home, Office 365 Personal 1-year included, Intel...</td>\n",
       "      <td>219.0</td>\n",
       "      <td>HP</td>\n",
       "      <td>14 in</td>\n",
       "      <td>4 GB</td>\n",
       "      <td>32 GB</td>\n",
       "      <td>Intel Celeron Processor N3060</td>\n",
       "      <td>1.6 Hz</td>\n",
       "      <td>Windows 10</td>\n",
       "      <td>10.25 h</td>\n",
       "      <td>Stream ax030wm 14” Smoke Gray Intel Celeron N3060</td>\n",
       "    </tr>\n",
       "    <tr>\n",
       "      <th>2</th>\n",
       "      <td>HP Stream 11.6\" Laptop, Windows 10 Home, Office 365 Personal 1-year subscription included, Intel...</td>\n",
       "      <td>199.0</td>\n",
       "      <td>HP</td>\n",
       "      <td>11.6 in</td>\n",
       "      <td>4 GB</td>\n",
       "      <td>32 GB</td>\n",
       "      <td>Intel Celeron</td>\n",
       "      <td>1.6 Hz</td>\n",
       "      <td>Windows 10</td>\n",
       "      <td>10 h</td>\n",
       "      <td>Stream Intel Celeron N3060</td>\n",
       "    </tr>\n",
       "  </tbody>\n",
       "</table>\n",
       "</div>"
      ],
      "text/plain": [
       "                                                                                                  Name  \\\n",
       "0  HP Flyer Red 15.6\" 15-f272wm Laptop PC with Intel Pentium N3540 Processor, 4GB Memory, 500GB Har...   \n",
       "1  HP Stream 14-ax030wm 14” Smoke Gray, Windows 10 Home, Office 365 Personal 1-year included, Intel...   \n",
       "2  HP Stream 11.6\" Laptop, Windows 10 Home, Office 365 Personal 1-year subscription included, Intel...   \n",
       "\n",
       "   Price Brand Screen Size   RAM Hard Drive Capacity  \\\n",
       "0  299.0    HP     15.6 in  4 GB             500  GB   \n",
       "1  219.0    HP       14 in  4 GB               32 GB   \n",
       "2  199.0    HP     11.6 in  4 GB               32 GB   \n",
       "\n",
       "                  Processor Type  \\\n",
       "0                  Intel Pentium   \n",
       "1  Intel Celeron Processor N3060   \n",
       "2                  Intel Celeron   \n",
       "\n",
       "                                Processor Speed Operating System Battery Life  \\\n",
       "0  2.16 GHz, with a Max Turbo Speed of 2.66 GHz       Windows 10    4.5 hours   \n",
       "1                                        1.6 Hz       Windows 10      10.25 h   \n",
       "2                                        1.6 Hz       Windows 10         10 h   \n",
       "\n",
       "                                          Clean Name  \n",
       "0         Flyer Red f272wm Intel Pentium N3540 Drive  \n",
       "1  Stream ax030wm 14” Smoke Gray Intel Celeron N3060  \n",
       "2                         Stream Intel Celeron N3060  "
      ]
     },
     "execution_count": 9,
     "metadata": {},
     "output_type": "execute_result"
    }
   ],
   "source": [
    "common = hw.get_common_words()\n",
    "hw.clean_names(amazon, common)\n",
    "hw.clean_names(walmart, common)\n",
    "walmart.head(3)"
   ]
  },
  {
   "cell_type": "code",
   "execution_count": 10,
   "metadata": {},
   "outputs": [
    {
     "data": {
      "text/html": [
       "<div>\n",
       "<style scoped>\n",
       "    .dataframe tbody tr th:only-of-type {\n",
       "        vertical-align: middle;\n",
       "    }\n",
       "\n",
       "    .dataframe tbody tr th {\n",
       "        vertical-align: top;\n",
       "    }\n",
       "\n",
       "    .dataframe thead th {\n",
       "        text-align: right;\n",
       "    }\n",
       "</style>\n",
       "<table border=\"1\" class=\"dataframe\">\n",
       "  <thead>\n",
       "    <tr style=\"text-align: right;\">\n",
       "      <th></th>\n",
       "      <th>Name</th>\n",
       "      <th>Price</th>\n",
       "      <th>Brand</th>\n",
       "      <th>Screen Size</th>\n",
       "      <th>RAM</th>\n",
       "      <th>Hard Drive Capacity</th>\n",
       "      <th>Processor Type</th>\n",
       "      <th>Processor Speed</th>\n",
       "      <th>Operating System</th>\n",
       "      <th>Battery Life</th>\n",
       "      <th>Clean Name</th>\n",
       "    </tr>\n",
       "  </thead>\n",
       "  <tbody>\n",
       "    <tr>\n",
       "      <th>0</th>\n",
       "      <td>2018 Newest HP Premium 15.6\" Laptop, AMD A6-9220 Dual-Core Processor 2.50GHz, 4GB RAM, 500GB HDD...</td>\n",
       "      <td>287.99</td>\n",
       "      <td>HP</td>\n",
       "      <td>15.6 in</td>\n",
       "      <td>4 GB</td>\n",
       "      <td>500 GB</td>\n",
       "      <td>NaN</td>\n",
       "      <td>2.5 GHz</td>\n",
       "      <td>Windows 10</td>\n",
       "      <td>NaN</td>\n",
       "      <td>2018 Premium AMD A6 9220 Dual AMD Radeon R4</td>\n",
       "    </tr>\n",
       "    <tr>\n",
       "      <th>1</th>\n",
       "      <td>2018 Newest Premium Dell Inspiron 15.6\" HD LED-backlit Display Laptop PC Intel Celeron Dual-Core...</td>\n",
       "      <td>309.00</td>\n",
       "      <td>Dell</td>\n",
       "      <td>15.6 in</td>\n",
       "      <td>4 GB</td>\n",
       "      <td>500 GB</td>\n",
       "      <td>NaN</td>\n",
       "      <td>1.6 GHz</td>\n",
       "      <td>Windows 10</td>\n",
       "      <td>NaN</td>\n",
       "      <td>2018 Premium Inspiron Intel Celeron Dual Black</td>\n",
       "    </tr>\n",
       "    <tr>\n",
       "      <th>2</th>\n",
       "      <td>Acer Aspire E 15 E5-575-33BM 15.6-Inch FHD Notebook (Intel Core i3-7100U 7th Generation , 4GB DD...</td>\n",
       "      <td>349.99</td>\n",
       "      <td>Acer</td>\n",
       "      <td>15.6 in</td>\n",
       "      <td>4 GB</td>\n",
       "      <td>1 TB</td>\n",
       "      <td>Intel</td>\n",
       "      <td>2.4 GHz</td>\n",
       "      <td>Windows 10</td>\n",
       "      <td>NaN</td>\n",
       "      <td>Aspire E E5 575 33BM Notebook Intel i3 7100U 7th Intel 620 Obsidian Black</td>\n",
       "    </tr>\n",
       "  </tbody>\n",
       "</table>\n",
       "</div>"
      ],
      "text/plain": [
       "                                                                                                  Name  \\\n",
       "0  2018 Newest HP Premium 15.6\" Laptop, AMD A6-9220 Dual-Core Processor 2.50GHz, 4GB RAM, 500GB HDD...   \n",
       "1  2018 Newest Premium Dell Inspiron 15.6\" HD LED-backlit Display Laptop PC Intel Celeron Dual-Core...   \n",
       "2  Acer Aspire E 15 E5-575-33BM 15.6-Inch FHD Notebook (Intel Core i3-7100U 7th Generation , 4GB DD...   \n",
       "\n",
       "    Price Brand Screen Size   RAM Hard Drive Capacity Processor Type  \\\n",
       "0  287.99    HP     15.6 in  4 GB              500 GB            NaN   \n",
       "1  309.00  Dell     15.6 in  4 GB              500 GB            NaN   \n",
       "2  349.99  Acer     15.6 in  4 GB                1 TB          Intel   \n",
       "\n",
       "  Processor Speed Operating System  Battery Life  \\\n",
       "0         2.5 GHz       Windows 10           NaN   \n",
       "1         1.6 GHz       Windows 10           NaN   \n",
       "2         2.4 GHz       Windows 10           NaN   \n",
       "\n",
       "                                                                  Clean Name  \n",
       "0                                2018 Premium AMD A6 9220 Dual AMD Radeon R4  \n",
       "1                             2018 Premium Inspiron Intel Celeron Dual Black  \n",
       "2  Aspire E E5 575 33BM Notebook Intel i3 7100U 7th Intel 620 Obsidian Black  "
      ]
     },
     "execution_count": 10,
     "metadata": {},
     "output_type": "execute_result"
    }
   ],
   "source": [
    "amazon.head(3)"
   ]
  },
  {
   "cell_type": "markdown",
   "metadata": {},
   "source": [
    "### 4. Formatting Data for py_entitymatching\n",
    "\n",
    "Now that the data sets have been cleaned, we can address the formatting issues of our tables. Specifically, we need to make sure the tables start with an ID column that uniquely identifies each tuples and we need to make sure that strings are indicated with double quotes."
   ]
  },
  {
   "cell_type": "code",
   "execution_count": 11,
   "metadata": {},
   "outputs": [
    {
     "data": {
      "text/html": [
       "<div>\n",
       "<style scoped>\n",
       "    .dataframe tbody tr th:only-of-type {\n",
       "        vertical-align: middle;\n",
       "    }\n",
       "\n",
       "    .dataframe tbody tr th {\n",
       "        vertical-align: top;\n",
       "    }\n",
       "\n",
       "    .dataframe thead th {\n",
       "        text-align: right;\n",
       "    }\n",
       "</style>\n",
       "<table border=\"1\" class=\"dataframe\">\n",
       "  <thead>\n",
       "    <tr style=\"text-align: right;\">\n",
       "      <th></th>\n",
       "      <th>ID</th>\n",
       "      <th>Name</th>\n",
       "      <th>Price</th>\n",
       "      <th>Brand</th>\n",
       "      <th>Screen Size</th>\n",
       "      <th>RAM</th>\n",
       "      <th>Hard Drive Capacity</th>\n",
       "      <th>Processor Type</th>\n",
       "      <th>Processor Speed</th>\n",
       "      <th>Operating System</th>\n",
       "      <th>Battery Life</th>\n",
       "      <th>Clean Name</th>\n",
       "    </tr>\n",
       "  </thead>\n",
       "  <tbody>\n",
       "    <tr>\n",
       "      <th>0</th>\n",
       "      <td>0</td>\n",
       "      <td>HP Flyer Red 15.6\" 15-f272wm Laptop PC with Intel Pentium N3540 Processor, 4GB Memory, 500GB Har...</td>\n",
       "      <td>299.0</td>\n",
       "      <td>HP</td>\n",
       "      <td>15.6 in</td>\n",
       "      <td>4 GB</td>\n",
       "      <td>500  GB</td>\n",
       "      <td>Intel Pentium</td>\n",
       "      <td>2.16 GHz, with a Max Turbo Speed of 2.66 GHz</td>\n",
       "      <td>Windows 10</td>\n",
       "      <td>4.5 hours</td>\n",
       "      <td>Flyer Red f272wm Intel Pentium N3540 Drive</td>\n",
       "    </tr>\n",
       "    <tr>\n",
       "      <th>1</th>\n",
       "      <td>1</td>\n",
       "      <td>HP Stream 14-ax030wm 14” Smoke Gray, Windows 10 Home, Office 365 Personal 1-year included, Intel...</td>\n",
       "      <td>219.0</td>\n",
       "      <td>HP</td>\n",
       "      <td>14 in</td>\n",
       "      <td>4 GB</td>\n",
       "      <td>32 GB</td>\n",
       "      <td>Intel Celeron Processor N3060</td>\n",
       "      <td>1.6 Hz</td>\n",
       "      <td>Windows 10</td>\n",
       "      <td>10.25 h</td>\n",
       "      <td>Stream ax030wm 14” Smoke Gray Intel Celeron N3060</td>\n",
       "    </tr>\n",
       "    <tr>\n",
       "      <th>2</th>\n",
       "      <td>2</td>\n",
       "      <td>HP Stream 11.6\" Laptop, Windows 10 Home, Office 365 Personal 1-year subscription included, Intel...</td>\n",
       "      <td>199.0</td>\n",
       "      <td>HP</td>\n",
       "      <td>11.6 in</td>\n",
       "      <td>4 GB</td>\n",
       "      <td>32 GB</td>\n",
       "      <td>Intel Celeron</td>\n",
       "      <td>1.6 Hz</td>\n",
       "      <td>Windows 10</td>\n",
       "      <td>10 h</td>\n",
       "      <td>Stream Intel Celeron N3060</td>\n",
       "    </tr>\n",
       "  </tbody>\n",
       "</table>\n",
       "</div>"
      ],
      "text/plain": [
       "   ID  \\\n",
       "0   0   \n",
       "1   1   \n",
       "2   2   \n",
       "\n",
       "                                                                                                  Name  \\\n",
       "0  HP Flyer Red 15.6\" 15-f272wm Laptop PC with Intel Pentium N3540 Processor, 4GB Memory, 500GB Har...   \n",
       "1  HP Stream 14-ax030wm 14” Smoke Gray, Windows 10 Home, Office 365 Personal 1-year included, Intel...   \n",
       "2  HP Stream 11.6\" Laptop, Windows 10 Home, Office 365 Personal 1-year subscription included, Intel...   \n",
       "\n",
       "   Price Brand Screen Size   RAM Hard Drive Capacity  \\\n",
       "0  299.0    HP     15.6 in  4 GB             500  GB   \n",
       "1  219.0    HP       14 in  4 GB               32 GB   \n",
       "2  199.0    HP     11.6 in  4 GB               32 GB   \n",
       "\n",
       "                  Processor Type  \\\n",
       "0                  Intel Pentium   \n",
       "1  Intel Celeron Processor N3060   \n",
       "2                  Intel Celeron   \n",
       "\n",
       "                                Processor Speed Operating System Battery Life  \\\n",
       "0  2.16 GHz, with a Max Turbo Speed of 2.66 GHz       Windows 10    4.5 hours   \n",
       "1                                        1.6 Hz       Windows 10      10.25 h   \n",
       "2                                        1.6 Hz       Windows 10         10 h   \n",
       "\n",
       "                                          Clean Name  \n",
       "0         Flyer Red f272wm Intel Pentium N3540 Drive  \n",
       "1  Stream ax030wm 14” Smoke Gray Intel Celeron N3060  \n",
       "2                         Stream Intel Celeron N3060  "
      ]
     },
     "execution_count": 11,
     "metadata": {},
     "output_type": "execute_result"
    }
   ],
   "source": [
    "# This will add the 'ID' column and change string formatting to double quotes in the saved csv files\n",
    "walmart.to_csv(path+'Walmart_clean.csv', index_label='ID')\n",
    "amazon.to_csv(path+'Amazon_clean.csv', index_label='ID')\n",
    "\n",
    "# Reload the dataframes\n",
    "walmart = pd.read_csv(path+'Walmart_clean.csv')\n",
    "amazon = pd.read_csv(path+'Amazon_clean.csv')\n",
    "\n",
    "# Take a look at the walmart data\n",
    "walmart.head(3)"
   ]
  },
  {
   "cell_type": "code",
   "execution_count": 12,
   "metadata": {},
   "outputs": [
    {
     "data": {
      "text/html": [
       "<div>\n",
       "<style scoped>\n",
       "    .dataframe tbody tr th:only-of-type {\n",
       "        vertical-align: middle;\n",
       "    }\n",
       "\n",
       "    .dataframe tbody tr th {\n",
       "        vertical-align: top;\n",
       "    }\n",
       "\n",
       "    .dataframe thead th {\n",
       "        text-align: right;\n",
       "    }\n",
       "</style>\n",
       "<table border=\"1\" class=\"dataframe\">\n",
       "  <thead>\n",
       "    <tr style=\"text-align: right;\">\n",
       "      <th></th>\n",
       "      <th>ID</th>\n",
       "      <th>Name</th>\n",
       "      <th>Price</th>\n",
       "      <th>Brand</th>\n",
       "      <th>Screen Size</th>\n",
       "      <th>RAM</th>\n",
       "      <th>Hard Drive Capacity</th>\n",
       "      <th>Processor Type</th>\n",
       "      <th>Processor Speed</th>\n",
       "      <th>Operating System</th>\n",
       "      <th>Battery Life</th>\n",
       "      <th>Clean Name</th>\n",
       "    </tr>\n",
       "  </thead>\n",
       "  <tbody>\n",
       "    <tr>\n",
       "      <th>0</th>\n",
       "      <td>0</td>\n",
       "      <td>2018 Newest HP Premium 15.6\" Laptop, AMD A6-9220 Dual-Core Processor 2.50GHz, 4GB RAM, 500GB HDD...</td>\n",
       "      <td>287.99</td>\n",
       "      <td>HP</td>\n",
       "      <td>15.6 in</td>\n",
       "      <td>4 GB</td>\n",
       "      <td>500 GB</td>\n",
       "      <td>NaN</td>\n",
       "      <td>2.5 GHz</td>\n",
       "      <td>Windows 10</td>\n",
       "      <td>NaN</td>\n",
       "      <td>2018 Premium AMD A6 9220 Dual AMD Radeon R4</td>\n",
       "    </tr>\n",
       "    <tr>\n",
       "      <th>1</th>\n",
       "      <td>1</td>\n",
       "      <td>2018 Newest Premium Dell Inspiron 15.6\" HD LED-backlit Display Laptop PC Intel Celeron Dual-Core...</td>\n",
       "      <td>309.00</td>\n",
       "      <td>Dell</td>\n",
       "      <td>15.6 in</td>\n",
       "      <td>4 GB</td>\n",
       "      <td>500 GB</td>\n",
       "      <td>NaN</td>\n",
       "      <td>1.6 GHz</td>\n",
       "      <td>Windows 10</td>\n",
       "      <td>NaN</td>\n",
       "      <td>2018 Premium Inspiron Intel Celeron Dual Black</td>\n",
       "    </tr>\n",
       "    <tr>\n",
       "      <th>2</th>\n",
       "      <td>2</td>\n",
       "      <td>Acer Aspire E 15 E5-575-33BM 15.6-Inch FHD Notebook (Intel Core i3-7100U 7th Generation , 4GB DD...</td>\n",
       "      <td>349.99</td>\n",
       "      <td>Acer</td>\n",
       "      <td>15.6 in</td>\n",
       "      <td>4 GB</td>\n",
       "      <td>1 TB</td>\n",
       "      <td>Intel</td>\n",
       "      <td>2.4 GHz</td>\n",
       "      <td>Windows 10</td>\n",
       "      <td>NaN</td>\n",
       "      <td>Aspire E E5 575 33BM Notebook Intel i3 7100U 7th Intel 620 Obsidian Black</td>\n",
       "    </tr>\n",
       "  </tbody>\n",
       "</table>\n",
       "</div>"
      ],
      "text/plain": [
       "   ID  \\\n",
       "0   0   \n",
       "1   1   \n",
       "2   2   \n",
       "\n",
       "                                                                                                  Name  \\\n",
       "0  2018 Newest HP Premium 15.6\" Laptop, AMD A6-9220 Dual-Core Processor 2.50GHz, 4GB RAM, 500GB HDD...   \n",
       "1  2018 Newest Premium Dell Inspiron 15.6\" HD LED-backlit Display Laptop PC Intel Celeron Dual-Core...   \n",
       "2  Acer Aspire E 15 E5-575-33BM 15.6-Inch FHD Notebook (Intel Core i3-7100U 7th Generation , 4GB DD...   \n",
       "\n",
       "    Price Brand Screen Size   RAM Hard Drive Capacity Processor Type  \\\n",
       "0  287.99    HP     15.6 in  4 GB              500 GB            NaN   \n",
       "1  309.00  Dell     15.6 in  4 GB              500 GB            NaN   \n",
       "2  349.99  Acer     15.6 in  4 GB                1 TB          Intel   \n",
       "\n",
       "  Processor Speed Operating System  Battery Life  \\\n",
       "0         2.5 GHz       Windows 10           NaN   \n",
       "1         1.6 GHz       Windows 10           NaN   \n",
       "2         2.4 GHz       Windows 10           NaN   \n",
       "\n",
       "                                                                  Clean Name  \n",
       "0                                2018 Premium AMD A6 9220 Dual AMD Radeon R4  \n",
       "1                             2018 Premium Inspiron Intel Celeron Dual Black  \n",
       "2  Aspire E E5 575 33BM Notebook Intel i3 7100U 7th Intel 620 Obsidian Black  "
      ]
     },
     "execution_count": 12,
     "metadata": {},
     "output_type": "execute_result"
    }
   ],
   "source": [
    "amazon.head(3)"
   ]
  },
  {
   "cell_type": "markdown",
   "metadata": {},
   "source": [
    "## Load the Tables into Magellan\n",
    "Now that our tables are in the correct format, we can load them with py_entitymatching's commands. This is necessary because we need to include our tables in py_entitymatching's catalog."
   ]
  },
  {
   "cell_type": "code",
   "execution_count": 13,
   "metadata": {},
   "outputs": [
    {
     "name": "stderr",
     "output_type": "stream",
     "text": [
      "Metadata file is not present in the given path; proceeding to read the csv file.\n",
      "Metadata file is not present in the given path; proceeding to read the csv file.\n"
     ]
    }
   ],
   "source": [
    "# Load csv files as dataframes and set the key attribute in the dataframe\n",
    "A = em.read_csv_metadata(path+'Walmart_clean.csv', key='ID')\n",
    "B = em.read_csv_metadata(path+'Amazon_clean.csv', key='ID')"
   ]
  },
  {
   "cell_type": "code",
   "execution_count": 14,
   "metadata": {},
   "outputs": [
    {
     "data": {
      "text/plain": [
       "('ID', 'ID')"
      ]
     },
     "execution_count": 14,
     "metadata": {},
     "output_type": "execute_result"
    }
   ],
   "source": [
    "# Display the key attributes of table A and B. This is information from the catalog.\n",
    "em.get_key(A), em.get_key(B)"
   ]
  },
  {
   "cell_type": "markdown",
   "metadata": {},
   "source": [
    "## Blocking Step\n",
    "If we examine the length of the cartesian product of these two tables, we will see that there are too many pairs to check and too many of the pairs will not actually be matches. We can use a blocking step to remove obvious non-matches. This helps us reduce the total number of potential matches to check and also results in our data having a better ratio of matches to non-matches."
   ]
  },
  {
   "cell_type": "code",
   "execution_count": 15,
   "metadata": {},
   "outputs": [
    {
     "name": "stdout",
     "output_type": "stream",
     "text": [
      "Number of tuples in A: 3034\n",
      "Number of tuples in B: 3102\n",
      "Number of tuples in A X B (i.e the cartesian product): 9411468\n"
     ]
    }
   ],
   "source": [
    "print('Number of tuples in A: ' + str(len(A)))\n",
    "print('Number of tuples in B: ' + str(len(B)))\n",
    "print('Number of tuples in A X B (i.e the cartesian product): ' + str(len(A)*len(B)))"
   ]
  },
  {
   "cell_type": "markdown",
   "metadata": {},
   "source": [
    "To begin with, we will check that the two laptops have the same brand. Two laptops cannot be a match if they are not even made by the same company and the brand attribute is relatively clean in both tables. "
   ]
  },
  {
   "cell_type": "code",
   "execution_count": 16,
   "metadata": {},
   "outputs": [
    {
     "data": {
      "text/plain": [
       "1644624"
      ]
     },
     "execution_count": 16,
     "metadata": {},
     "output_type": "execute_result"
    }
   ],
   "source": [
    "# Create attribute equivalence blocker\n",
    "ab = em.AttrEquivalenceBlocker()\n",
    "\n",
    "# Block tables comparing the brand\n",
    "C1 = ab.block_tables(A, B, 'Brand', 'Brand',\n",
    "                   l_output_attrs=['Name', 'Price', 'Brand', 'Screen Size', 'RAM', 'Hard Drive Capacity', 'Processor Type', 'Processor Speed', 'Operating System', 'Clean Name'],\n",
    "                   r_output_attrs=['Name', 'Price', 'Brand', 'Screen Size', 'RAM', 'Hard Drive Capacity', 'Processor Type', 'Processor Speed', 'Operating System', 'Clean Name'])\n",
    "\n",
    "# Lets see how much we've reduced the size of the cadidate set\n",
    "len(C1)"
   ]
  },
  {
   "cell_type": "markdown",
   "metadata": {},
   "source": [
    "Now every tuple pair in our candidate set C1 shares the same brand. Unfortunatly, there are still over a million tuples in this set so we need to continue blocking to reduce the size. Next, we will apply a rule based blocker. This blocker will check to see how similar the Clean Name columns of the tuple pair are using a jaccard score with 3-grams. "
   ]
  },
  {
   "cell_type": "code",
   "execution_count": 17,
   "metadata": {},
   "outputs": [
    {
     "name": "stderr",
     "output_type": "stream",
     "text": [
      "Column Battery Life does not seem to qualify as any atomic type. It may contain all NaNs. Please update the values of column Battery Life\n",
      "0% [##############################] 100% | ETA: 00:00:00\n",
      "Total time elapsed: 00:02:55\n"
     ]
    },
    {
     "data": {
      "text/plain": [
       "68742"
      ]
     },
     "execution_count": 17,
     "metadata": {},
     "output_type": "execute_result"
    }
   ],
   "source": [
    "# Get features for rule based blocking\n",
    "block_f = em.get_features_for_blocking(A, B, validate_inferred_attr_types=False)\n",
    "\n",
    "# Create the rule based blocker and add rule for jaccard score on Clean Name column\n",
    "rb = em.RuleBasedBlocker()\n",
    "rb.add_rule(['Clean_Name_Clean_Name_jac_qgm_3_qgm_3(ltuple, rtuple) < 0.2'], block_f)\n",
    "\n",
    "# Block the candset\n",
    "C2 = rb.block_candset(C1)\n",
    "len(C2)"
   ]
  },
  {
   "cell_type": "markdown",
   "metadata": {},
   "source": [
    "Now we have significantly reduced the size of the candidate set to around 65 thousand, but still only a small portion of the candidates can be actual matches. Since matching laptops should have the same size screen, RAM, and hard drive capacity, we will use a black box blocker to check if the numbers in the screen size field are equal."
   ]
  },
  {
   "cell_type": "code",
   "execution_count": 18,
   "metadata": {},
   "outputs": [
    {
     "name": "stderr",
     "output_type": "stream",
     "text": [
      "0% [##############################] 100% | ETA: 00:00:00\n",
      "Total time elapsed: 00:00:05\n"
     ]
    },
    {
     "data": {
      "text/plain": [
       "19052"
      ]
     },
     "execution_count": 18,
     "metadata": {},
     "output_type": "execute_result"
    }
   ],
   "source": [
    "# Create another black box blocker\n",
    "bb_screen = em.BlackBoxBlocker()\n",
    "# Set the black box function\n",
    "bb_screen.set_black_box_function((hw.screen_ram_hd_equal))\n",
    "# Apply blocker \n",
    "C = bb_screen.block_candset(C2)\n",
    "\n",
    "# Let's check the length of this candadate set\n",
    "len(C)"
   ]
  },
  {
   "cell_type": "markdown",
   "metadata": {},
   "source": [
    "Now that we have sufficently reduced the size of the candidate set, let's debug the blocking scheme to see if we left out any potential matches."
   ]
  },
  {
   "cell_type": "code",
   "execution_count": 19,
   "metadata": {},
   "outputs": [],
   "source": [
    "dbg = em.debug_blocker(C, A, B)\n",
    "dbg.to_csv(path+'debug.csv', index=False)"
   ]
  },
  {
   "cell_type": "code",
   "execution_count": 20,
   "metadata": {},
   "outputs": [],
   "source": [
    "# Save the candidate set to a csv file\n",
    "C.to_csv(path+'Candidate_Set.csv', index=False)"
   ]
  },
  {
   "cell_type": "markdown",
   "metadata": {},
   "source": [
    "## Sampling and Labeling\n",
    "\n",
    "Before we can start choosing a model, we need to label a set of data. First, we will randomly sample 300 candidate pairs of tuples and then we will manually label them all."
   ]
  },
  {
   "cell_type": "code",
   "execution_count": 21,
   "metadata": {},
   "outputs": [],
   "source": [
    "# Sample candidate set\n",
    "S = em.sample_table(C, 300)"
   ]
  },
  {
   "cell_type": "code",
   "execution_count": 22,
   "metadata": {},
   "outputs": [
    {
     "name": "stderr",
     "output_type": "stream",
     "text": [
      "Metadata file is not present in the given path; proceeding to read the csv file.\n"
     ]
    }
   ],
   "source": [
    "# Label S and specify the attribute name for the label column\n",
    "#L = em.label_table(S, 'gold')\n",
    "\n",
    "# Save Labeled data to csv file\n",
    "#L.to_csv(path+'Labeled_Data.csv', index=False)\n",
    "\n",
    "L = em.read_csv_metadata(path+'Labeled_Data.csv', \n",
    "                         key='_id',\n",
    "                         ltable=A, rtable=B, \n",
    "                         fk_ltable='ltable_ID', fk_rtable='rtable_ID')"
   ]
  },
  {
   "cell_type": "markdown",
   "metadata": {},
   "source": [
    "## Feature Generation\n",
    "\n",
    "Now that we have a set of labeled data, we will create feature vectors for matching. We will use the features automatically generated by py_entitymatching. However, we don't need any features relating to brand since we already assured that the brands would match in the blocking stage. Additionally, many of the tuples are missing vlaues for battery life so we will not include any features based on that attribute either."
   ]
  },
  {
   "cell_type": "code",
   "execution_count": 23,
   "metadata": {},
   "outputs": [
    {
     "name": "stderr",
     "output_type": "stream",
     "text": [
      "Column Battery Life does not seem to qualify as any atomic type. It may contain all NaNs. Please update the values of column Battery Life\n"
     ]
    },
    {
     "data": {
      "text/plain": [
       "4        Name_Name_jac_qgm_3_qgm_3\n",
       "5    Name_Name_cos_dlm_dc0_dlm_dc0\n",
       "6                  Price_Price_exm\n",
       "7                  Price_Price_anm\n",
       "8             Price_Price_lev_dist\n",
       "Name: feature_name, dtype: object"
      ]
     },
     "execution_count": 23,
     "metadata": {},
     "output_type": "execute_result"
    }
   ],
   "source": [
    "# Generate features\n",
    "feature_table = em.get_features_for_matching(A, B, validate_inferred_attr_types=False)\n",
    "\n",
    "# We don't need any features relating to brand\n",
    "feature_subset = feature_table.iloc[np.r_[4:10, 40:len(feature_table)], :]\n",
    "\n",
    "# List the names of the features generated\n",
    "feature_subset['feature_name'].head()"
   ]
  },
  {
   "cell_type": "markdown",
   "metadata": {},
   "source": [
    "We will split the data into a training set and a test set. The training set will be used for selecting our model, debugging the models, and training the final model. The test set is only used later on for evaluating the final model we settle on."
   ]
  },
  {
   "cell_type": "code",
   "execution_count": 24,
   "metadata": {},
   "outputs": [],
   "source": [
    "# Split the labeled data into development and evaluation set\n",
    "development_evaluation = em.split_train_test(L, train_proportion=0.7)\n",
    "development =  development_evaluation['train']\n",
    "evaluation = development_evaluation['test']\n",
    "\n",
    "# Save sets I and J to csv files\n",
    "development.to_csv(path+'Development.csv', index=False)\n",
    "evaluation.to_csv(path+'Evaluation.csv', index=False)"
   ]
  },
  {
   "cell_type": "code",
   "execution_count": 25,
   "metadata": {},
   "outputs": [
    {
     "name": "stderr",
     "output_type": "stream",
     "text": [
      "0% [##############################] 100% | ETA: 00:00:00\n",
      "Total time elapsed: 00:00:00\n"
     ]
    },
    {
     "data": {
      "text/html": [
       "<div>\n",
       "<style scoped>\n",
       "    .dataframe tbody tr th:only-of-type {\n",
       "        vertical-align: middle;\n",
       "    }\n",
       "\n",
       "    .dataframe tbody tr th {\n",
       "        vertical-align: top;\n",
       "    }\n",
       "\n",
       "    .dataframe thead th {\n",
       "        text-align: right;\n",
       "    }\n",
       "</style>\n",
       "<table border=\"1\" class=\"dataframe\">\n",
       "  <thead>\n",
       "    <tr style=\"text-align: right;\">\n",
       "      <th></th>\n",
       "      <th>_id</th>\n",
       "      <th>ltable_ID</th>\n",
       "      <th>rtable_ID</th>\n",
       "      <th>Name_Name_jac_qgm_3_qgm_3</th>\n",
       "      <th>Name_Name_cos_dlm_dc0_dlm_dc0</th>\n",
       "      <th>Price_Price_exm</th>\n",
       "      <th>Price_Price_anm</th>\n",
       "      <th>Price_Price_lev_dist</th>\n",
       "      <th>Price_Price_lev_sim</th>\n",
       "      <th>Processor_Speed_Processor_Speed_jac_qgm_3_qgm_3</th>\n",
       "      <th>...</th>\n",
       "      <th>Operating_System_Operating_System_lev_dist</th>\n",
       "      <th>Operating_System_Operating_System_lev_sim</th>\n",
       "      <th>Operating_System_Operating_System_nmw</th>\n",
       "      <th>Operating_System_Operating_System_sw</th>\n",
       "      <th>Clean_Name_Clean_Name_jac_qgm_3_qgm_3</th>\n",
       "      <th>Clean_Name_Clean_Name_cos_dlm_dc0_dlm_dc0</th>\n",
       "      <th>Clean_Name_Clean_Name_mel</th>\n",
       "      <th>Clean_Name_Clean_Name_lev_dist</th>\n",
       "      <th>Clean_Name_Clean_Name_lev_sim</th>\n",
       "      <th>gold</th>\n",
       "    </tr>\n",
       "  </thead>\n",
       "  <tbody>\n",
       "    <tr>\n",
       "      <th>130</th>\n",
       "      <td>283662</td>\n",
       "      <td>167</td>\n",
       "      <td>2011</td>\n",
       "      <td>0.189055</td>\n",
       "      <td>0.359092</td>\n",
       "      <td>0.0</td>\n",
       "      <td>0.926780</td>\n",
       "      <td>5.0</td>\n",
       "      <td>0.166667</td>\n",
       "      <td>NaN</td>\n",
       "      <td>...</td>\n",
       "      <td>0.0</td>\n",
       "      <td>1.0</td>\n",
       "      <td>10.0</td>\n",
       "      <td>10.0</td>\n",
       "      <td>0.211268</td>\n",
       "      <td>0.353553</td>\n",
       "      <td>0.784166</td>\n",
       "      <td>37.0</td>\n",
       "      <td>0.339286</td>\n",
       "      <td>0</td>\n",
       "    </tr>\n",
       "    <tr>\n",
       "      <th>171</th>\n",
       "      <td>478739</td>\n",
       "      <td>282</td>\n",
       "      <td>2925</td>\n",
       "      <td>0.406114</td>\n",
       "      <td>0.464642</td>\n",
       "      <td>0.0</td>\n",
       "      <td>0.925033</td>\n",
       "      <td>3.0</td>\n",
       "      <td>0.500000</td>\n",
       "      <td>NaN</td>\n",
       "      <td>...</td>\n",
       "      <td>0.0</td>\n",
       "      <td>1.0</td>\n",
       "      <td>10.0</td>\n",
       "      <td>10.0</td>\n",
       "      <td>0.457143</td>\n",
       "      <td>0.577350</td>\n",
       "      <td>0.693290</td>\n",
       "      <td>27.0</td>\n",
       "      <td>0.571429</td>\n",
       "      <td>1</td>\n",
       "    </tr>\n",
       "    <tr>\n",
       "      <th>23</th>\n",
       "      <td>11792</td>\n",
       "      <td>6</td>\n",
       "      <td>3004</td>\n",
       "      <td>0.345361</td>\n",
       "      <td>0.382692</td>\n",
       "      <td>0.0</td>\n",
       "      <td>0.977098</td>\n",
       "      <td>4.0</td>\n",
       "      <td>0.333333</td>\n",
       "      <td>0.285714</td>\n",
       "      <td>...</td>\n",
       "      <td>0.0</td>\n",
       "      <td>1.0</td>\n",
       "      <td>10.0</td>\n",
       "      <td>10.0</td>\n",
       "      <td>0.324675</td>\n",
       "      <td>0.503953</td>\n",
       "      <td>0.666835</td>\n",
       "      <td>35.0</td>\n",
       "      <td>0.363636</td>\n",
       "      <td>1</td>\n",
       "    </tr>\n",
       "  </tbody>\n",
       "</table>\n",
       "<p>3 rows × 31 columns</p>\n",
       "</div>"
      ],
      "text/plain": [
       "        _id  ltable_ID  rtable_ID  Name_Name_jac_qgm_3_qgm_3  \\\n",
       "130  283662        167       2011                   0.189055   \n",
       "171  478739        282       2925                   0.406114   \n",
       "23    11792          6       3004                   0.345361   \n",
       "\n",
       "     Name_Name_cos_dlm_dc0_dlm_dc0  Price_Price_exm  Price_Price_anm  \\\n",
       "130                       0.359092              0.0         0.926780   \n",
       "171                       0.464642              0.0         0.925033   \n",
       "23                        0.382692              0.0         0.977098   \n",
       "\n",
       "     Price_Price_lev_dist  Price_Price_lev_sim  \\\n",
       "130                   5.0             0.166667   \n",
       "171                   3.0             0.500000   \n",
       "23                    4.0             0.333333   \n",
       "\n",
       "     Processor_Speed_Processor_Speed_jac_qgm_3_qgm_3  ...   \\\n",
       "130                                              NaN  ...    \n",
       "171                                              NaN  ...    \n",
       "23                                          0.285714  ...    \n",
       "\n",
       "     Operating_System_Operating_System_lev_dist  \\\n",
       "130                                         0.0   \n",
       "171                                         0.0   \n",
       "23                                          0.0   \n",
       "\n",
       "     Operating_System_Operating_System_lev_sim  \\\n",
       "130                                        1.0   \n",
       "171                                        1.0   \n",
       "23                                         1.0   \n",
       "\n",
       "     Operating_System_Operating_System_nmw  \\\n",
       "130                                   10.0   \n",
       "171                                   10.0   \n",
       "23                                    10.0   \n",
       "\n",
       "     Operating_System_Operating_System_sw  \\\n",
       "130                                  10.0   \n",
       "171                                  10.0   \n",
       "23                                   10.0   \n",
       "\n",
       "     Clean_Name_Clean_Name_jac_qgm_3_qgm_3  \\\n",
       "130                               0.211268   \n",
       "171                               0.457143   \n",
       "23                                0.324675   \n",
       "\n",
       "     Clean_Name_Clean_Name_cos_dlm_dc0_dlm_dc0  Clean_Name_Clean_Name_mel  \\\n",
       "130                                   0.353553                   0.784166   \n",
       "171                                   0.577350                   0.693290   \n",
       "23                                    0.503953                   0.666835   \n",
       "\n",
       "     Clean_Name_Clean_Name_lev_dist  Clean_Name_Clean_Name_lev_sim  gold  \n",
       "130                            37.0                       0.339286     0  \n",
       "171                            27.0                       0.571429     1  \n",
       "23                             35.0                       0.363636     1  \n",
       "\n",
       "[3 rows x 31 columns]"
      ]
     },
     "execution_count": 25,
     "metadata": {},
     "output_type": "execute_result"
    }
   ],
   "source": [
    "# Extract feature vectors\n",
    "feature_vectors_dev = em.extract_feature_vecs(development, \n",
    "                            feature_table=feature_subset, \n",
    "                            attrs_after='gold')\n",
    "# Display first few rows\n",
    "feature_vectors_dev.head(3)"
   ]
  },
  {
   "cell_type": "code",
   "execution_count": 26,
   "metadata": {},
   "outputs": [
    {
     "data": {
      "text/plain": [
       "True"
      ]
     },
     "execution_count": 26,
     "metadata": {},
     "output_type": "execute_result"
    }
   ],
   "source": [
    "# Check for missing values\n",
    "any(pd.isnull(feature_vectors_dev))"
   ]
  },
  {
   "cell_type": "code",
   "execution_count": 27,
   "metadata": {},
   "outputs": [],
   "source": [
    "# Impute feature vectors with the mean of the column values.\n",
    "feature_vectors_dev = em.impute_table(feature_vectors_dev, \n",
    "                exclude_attrs=['_id', 'ltable_ID', 'rtable_ID', 'gold'],\n",
    "                strategy='mean')"
   ]
  },
  {
   "cell_type": "markdown",
   "metadata": {},
   "source": [
    "## Selecting a Matcher\n",
    "\n",
    "Using the feature vectors we created, we can create some ML models and select the one that performs best. We will be selecting between the following methods: Decision Tree, SVM, Random Forest, Naive Bayes, Logistic Regression, and Linear Regression."
   ]
  },
  {
   "cell_type": "code",
   "execution_count": 28,
   "metadata": {},
   "outputs": [],
   "source": [
    "# Create a set of ML-matchers\n",
    "dt = em.DTMatcher(name='DecisionTree')\n",
    "svm = em.SVMMatcher(name='SVM')\n",
    "rf = em.RFMatcher(name='RF')\n",
    "nb = em.NBMatcher(name='NB')\n",
    "lg = em.LogRegMatcher(name='LogReg')\n",
    "ln = em.LinRegMatcher(name='LinReg')"
   ]
  },
  {
   "cell_type": "code",
   "execution_count": 29,
   "metadata": {},
   "outputs": [],
   "source": [
    "# Select the best ML matcher using Cross Validation\n",
    "result = em.select_matcher([dt, rf, svm, nb, lg, ln], table=feature_vectors_dev, \n",
    "        exclude_attrs=['_id', 'ltable_ID', 'rtable_ID', 'gold'],\n",
    "        k=10,\n",
    "        target_attr='gold', \n",
    "        metric_to_select_matcher='f1',\n",
    "        random_state=0)"
   ]
  },
  {
   "cell_type": "code",
   "execution_count": 30,
   "metadata": {},
   "outputs": [
    {
     "data": {
      "text/html": [
       "<div>\n",
       "<style scoped>\n",
       "    .dataframe tbody tr th:only-of-type {\n",
       "        vertical-align: middle;\n",
       "    }\n",
       "\n",
       "    .dataframe tbody tr th {\n",
       "        vertical-align: top;\n",
       "    }\n",
       "\n",
       "    .dataframe thead th {\n",
       "        text-align: right;\n",
       "    }\n",
       "</style>\n",
       "<table border=\"1\" class=\"dataframe\">\n",
       "  <thead>\n",
       "    <tr style=\"text-align: right;\">\n",
       "      <th></th>\n",
       "      <th>Matcher</th>\n",
       "      <th>Average precision</th>\n",
       "      <th>Average recall</th>\n",
       "      <th>Average f1</th>\n",
       "    </tr>\n",
       "  </thead>\n",
       "  <tbody>\n",
       "    <tr>\n",
       "      <th>0</th>\n",
       "      <td>DecisionTree</td>\n",
       "      <td>0.917500</td>\n",
       "      <td>0.919048</td>\n",
       "      <td>0.910598</td>\n",
       "    </tr>\n",
       "    <tr>\n",
       "      <th>1</th>\n",
       "      <td>RF</td>\n",
       "      <td>0.940714</td>\n",
       "      <td>0.882937</td>\n",
       "      <td>0.910717</td>\n",
       "    </tr>\n",
       "    <tr>\n",
       "      <th>2</th>\n",
       "      <td>SVM</td>\n",
       "      <td>0.757738</td>\n",
       "      <td>0.671825</td>\n",
       "      <td>0.693077</td>\n",
       "    </tr>\n",
       "    <tr>\n",
       "      <th>3</th>\n",
       "      <td>NB</td>\n",
       "      <td>0.570000</td>\n",
       "      <td>0.576190</td>\n",
       "      <td>0.544761</td>\n",
       "    </tr>\n",
       "    <tr>\n",
       "      <th>4</th>\n",
       "      <td>LogReg</td>\n",
       "      <td>0.670000</td>\n",
       "      <td>0.529365</td>\n",
       "      <td>0.569893</td>\n",
       "    </tr>\n",
       "    <tr>\n",
       "      <th>5</th>\n",
       "      <td>LinReg</td>\n",
       "      <td>0.842381</td>\n",
       "      <td>0.630556</td>\n",
       "      <td>0.711829</td>\n",
       "    </tr>\n",
       "  </tbody>\n",
       "</table>\n",
       "</div>"
      ],
      "text/plain": [
       "        Matcher  Average precision  Average recall  Average f1\n",
       "0  DecisionTree           0.917500        0.919048    0.910598\n",
       "1            RF           0.940714        0.882937    0.910717\n",
       "2           SVM           0.757738        0.671825    0.693077\n",
       "3            NB           0.570000        0.576190    0.544761\n",
       "4        LogReg           0.670000        0.529365    0.569893\n",
       "5        LinReg           0.842381        0.630556    0.711829"
      ]
     },
     "execution_count": 30,
     "metadata": {},
     "output_type": "execute_result"
    }
   ],
   "source": [
    "# Lets take a look at the average results for cross validation for each matcher\n",
    "result['cv_stats']"
   ]
  },
  {
   "cell_type": "markdown",
   "metadata": {},
   "source": [
    "## Debugging a Matcher\n",
    "\n",
    "The next step is to debug the matcher we have chosen. We will examine the false positives and false negative to try and look for some common patterns to our errors. This way, we can make changes to address these common problems."
   ]
  },
  {
   "cell_type": "code",
   "execution_count": 31,
   "metadata": {},
   "outputs": [],
   "source": [
    "# # Split feature vectors into train and test\n",
    "train_test = em.split_train_test(feature_vectors_dev, train_proportion=0.5)\n",
    "train = train_test['train']\n",
    "test = train_test['test']"
   ]
  },
  {
   "cell_type": "code",
   "execution_count": 32,
   "metadata": {},
   "outputs": [],
   "source": [
    "# Debug decision tree using GUI\n",
    "em.vis_debug_rf(rf, train, test, \n",
    "        exclude_attrs=['_id', 'ltable_ID', 'rtable_ID', 'gold'],\n",
    "        target_attr='gold')"
   ]
  },
  {
   "cell_type": "markdown",
   "metadata": {},
   "source": [
    "After taking a look at the false positives and negatives using the debugger, we discovered that the random forest model has trouble differentiated referbished laptops from new laptops. We can add a new feature that checks if the two laptops are refurbished to help with this problem."
   ]
  },
  {
   "cell_type": "code",
   "execution_count": 33,
   "metadata": {},
   "outputs": [
    {
     "data": {
      "text/plain": [
       "True"
      ]
     },
     "execution_count": 33,
     "metadata": {},
     "output_type": "execute_result"
    }
   ],
   "source": [
    "# Add new feature to check if laptops are refurbished or not\n",
    "em.add_blackbox_feature(feature_subset, 'refurbished', hw.refurbished)"
   ]
  },
  {
   "cell_type": "markdown",
   "metadata": {},
   "source": [
    "Now we can select a model again to see how our new refurbish feature affected performance."
   ]
  },
  {
   "cell_type": "code",
   "execution_count": 34,
   "metadata": {},
   "outputs": [
    {
     "name": "stderr",
     "output_type": "stream",
     "text": [
      "0% [##############################] 100% | ETA: 00:00:00\n",
      "Total time elapsed: 00:00:00\n"
     ]
    }
   ],
   "source": [
    "# Extract feature vectors\n",
    "feature_vectors_dev = em.extract_feature_vecs(development, \n",
    "                            feature_table=feature_subset, \n",
    "                            attrs_after='gold')\n",
    "\n",
    "# Impute feature vectors with the mean of the column values.\n",
    "feature_vectors_dev = em.impute_table(feature_vectors_dev, \n",
    "                exclude_attrs=['_id', 'ltable_ID', 'rtable_ID', 'gold'],\n",
    "                strategy='mean')\n",
    "\n",
    "# Select the best ML matcher using Cross Validation\n",
    "result = em.select_matcher([dt, rf, svm, nb, lg, ln], table=feature_vectors_dev, \n",
    "        exclude_attrs=['_id', 'ltable_ID', 'rtable_ID', 'gold'],\n",
    "        k=10,\n",
    "        target_attr='gold', \n",
    "        metric_to_select_matcher='f1',\n",
    "        random_state=0)"
   ]
  },
  {
   "cell_type": "code",
   "execution_count": 35,
   "metadata": {},
   "outputs": [
    {
     "data": {
      "text/html": [
       "<div>\n",
       "<style scoped>\n",
       "    .dataframe tbody tr th:only-of-type {\n",
       "        vertical-align: middle;\n",
       "    }\n",
       "\n",
       "    .dataframe tbody tr th {\n",
       "        vertical-align: top;\n",
       "    }\n",
       "\n",
       "    .dataframe thead th {\n",
       "        text-align: right;\n",
       "    }\n",
       "</style>\n",
       "<table border=\"1\" class=\"dataframe\">\n",
       "  <thead>\n",
       "    <tr style=\"text-align: right;\">\n",
       "      <th></th>\n",
       "      <th>Matcher</th>\n",
       "      <th>Average precision</th>\n",
       "      <th>Average recall</th>\n",
       "      <th>Average f1</th>\n",
       "    </tr>\n",
       "  </thead>\n",
       "  <tbody>\n",
       "    <tr>\n",
       "      <th>0</th>\n",
       "      <td>DecisionTree</td>\n",
       "      <td>0.913929</td>\n",
       "      <td>0.919048</td>\n",
       "      <td>0.910598</td>\n",
       "    </tr>\n",
       "    <tr>\n",
       "      <th>1</th>\n",
       "      <td>RF</td>\n",
       "      <td>0.938492</td>\n",
       "      <td>0.927778</td>\n",
       "      <td>0.927661</td>\n",
       "    </tr>\n",
       "    <tr>\n",
       "      <th>2</th>\n",
       "      <td>SVM</td>\n",
       "      <td>0.784545</td>\n",
       "      <td>0.671825</td>\n",
       "      <td>0.706125</td>\n",
       "    </tr>\n",
       "    <tr>\n",
       "      <th>3</th>\n",
       "      <td>NB</td>\n",
       "      <td>0.714405</td>\n",
       "      <td>0.688889</td>\n",
       "      <td>0.682251</td>\n",
       "    </tr>\n",
       "    <tr>\n",
       "      <th>4</th>\n",
       "      <td>LogReg</td>\n",
       "      <td>0.728095</td>\n",
       "      <td>0.558532</td>\n",
       "      <td>0.616865</td>\n",
       "    </tr>\n",
       "    <tr>\n",
       "      <th>5</th>\n",
       "      <td>LinReg</td>\n",
       "      <td>0.812381</td>\n",
       "      <td>0.655952</td>\n",
       "      <td>0.721434</td>\n",
       "    </tr>\n",
       "  </tbody>\n",
       "</table>\n",
       "</div>"
      ],
      "text/plain": [
       "        Matcher  Average precision  Average recall  Average f1\n",
       "0  DecisionTree           0.913929        0.919048    0.910598\n",
       "1            RF           0.938492        0.927778    0.927661\n",
       "2           SVM           0.784545        0.671825    0.706125\n",
       "3            NB           0.714405        0.688889    0.682251\n",
       "4        LogReg           0.728095        0.558532    0.616865\n",
       "5        LinReg           0.812381        0.655952    0.721434"
      ]
     },
     "execution_count": 35,
     "metadata": {},
     "output_type": "execute_result"
    }
   ],
   "source": [
    "result['cv_stats']"
   ]
  },
  {
   "cell_type": "markdown",
   "metadata": {},
   "source": [
    "We can see above that the Random Forest model has improved due to the debugging and is now the best performing matcher on our development set. We can move forward and test it out on the evaluation set."
   ]
  },
  {
   "cell_type": "markdown",
   "metadata": {},
   "source": [
    "## Evaluating the Matchers\n",
    "\n",
    "Next, we will evaluate the matchers on the test dataset that we set aside earlier. Up until this point we have not looked at the evaluation set at all. The hope is that the evaluation set is representative of the complete data set (after blocking) and we have not overfit it since we have not looked at it.\n",
    "\n",
    "First, we need to create feature vectors from the evaluation set. These features will be the same as before and will include our refurbished feature we developed after debuggin the matchers."
   ]
  },
  {
   "cell_type": "code",
   "execution_count": 36,
   "metadata": {},
   "outputs": [
    {
     "name": "stderr",
     "output_type": "stream",
     "text": [
      "0% [##############################] 100% | ETA: 00:00:00\n",
      "Total time elapsed: 00:00:00\n"
     ]
    }
   ],
   "source": [
    "# Get new set of features\n",
    "feature_vectors_eval = em.extract_feature_vecs(evaluation, \n",
    "                                               feature_table=feature_subset, \n",
    "                                               attrs_after='gold')\n",
    "\n",
    "# Impute feature vectors\n",
    "feature_vectors_eval = em.impute_table(feature_vectors_eval, \n",
    "                exclude_attrs=['_id', 'ltable_ID', 'rtable_ID', 'gold'],\n",
    "                strategy='mean')"
   ]
  },
  {
   "cell_type": "markdown",
   "metadata": {},
   "source": [
    "Now we will fit the models on the entire development set. This will give us a model that can be used to predict matches in the evaluation set. Then, using the trained model, we will generate predictions for the entire evaluation set and report the accuracies for each model."
   ]
  },
  {
   "cell_type": "code",
   "execution_count": 37,
   "metadata": {},
   "outputs": [],
   "source": [
    "# Train using feature vectors from the development set\n",
    "matchers = [dt, rf, svm, nb, lg, ln]\n",
    "for matcher in matchers:\n",
    "    matcher.fit(table=feature_vectors_dev, \n",
    "           exclude_attrs=['_id', 'ltable_ID', 'rtable_ID', 'gold'], \n",
    "           target_attr='gold')"
   ]
  },
  {
   "cell_type": "code",
   "execution_count": 38,
   "metadata": {},
   "outputs": [],
   "source": [
    "# Predict M for each matcher\n",
    "predictions = []\n",
    "for matcher in matchers:\n",
    "    predictions.append(matcher.predict(table=feature_vectors_eval, \n",
    "                             exclude_attrs=['_id', 'ltable_ID', 'rtable_ID', 'gold'], \n",
    "                             append=True, \n",
    "                             target_attr='predicted', \n",
    "                             inplace=False))"
   ]
  },
  {
   "cell_type": "code",
   "execution_count": 39,
   "metadata": {},
   "outputs": [
    {
     "name": "stdout",
     "output_type": "stream",
     "text": [
      "DecisionTree: \n",
      "Precision : 92.86% (26/28)\n",
      "Recall : 96.3% (26/27)\n",
      "F1 : 94.55%\n",
      "False positives : 2 (out of 28 positive predictions)\n",
      "False negatives : 1 (out of 62 negative predictions)\n",
      "\n",
      "RF: \n",
      "Precision : 100.0% (24/24)\n",
      "Recall : 88.89% (24/27)\n",
      "F1 : 94.12%\n",
      "False positives : 0 (out of 24 positive predictions)\n",
      "False negatives : 3 (out of 66 negative predictions)\n",
      "\n",
      "SVM: \n",
      "Precision : 66.67% (16/24)\n",
      "Recall : 59.26% (16/27)\n",
      "F1 : 62.75%\n",
      "False positives : 8 (out of 24 positive predictions)\n",
      "False negatives : 11 (out of 66 negative predictions)\n",
      "\n",
      "NB: \n",
      "Precision : 56.67% (17/30)\n",
      "Recall : 62.96% (17/27)\n",
      "F1 : 59.65%\n",
      "False positives : 13 (out of 30 positive predictions)\n",
      "False negatives : 10 (out of 60 negative predictions)\n",
      "\n",
      "LogReg: \n",
      "Precision : 69.23% (9/13)\n",
      "Recall : 33.33% (9/27)\n",
      "F1 : 45.0%\n",
      "False positives : 4 (out of 13 positive predictions)\n",
      "False negatives : 18 (out of 77 negative predictions)\n",
      "\n",
      "LinReg: \n",
      "Precision : 89.47% (17/19)\n",
      "Recall : 62.96% (17/27)\n",
      "F1 : 73.91%\n",
      "False positives : 2 (out of 19 positive predictions)\n",
      "False negatives : 10 (out of 71 negative predictions)\n",
      "\n"
     ]
    }
   ],
   "source": [
    "# Evaluate the result\n",
    "for i, matcher in enumerate(matchers):\n",
    "    print(matcher.name + ': ')\n",
    "    eval_result = em.eval_matches(predictions[i], 'gold', 'predicted')\n",
    "    em.print_eval_summary(eval_result)\n",
    "    print('')"
   ]
  },
  {
   "cell_type": "markdown",
   "metadata": {},
   "source": [
    "We can see above that the Random Forest model has performed well on the test set nearly reaching a 95% F1 score. "
   ]
  }
 ],
 "metadata": {
  "kernelspec": {
   "display_name": "Python 3",
   "language": "python",
   "name": "python3"
  },
  "language_info": {
   "codemirror_mode": {
    "name": "ipython",
    "version": 3
   },
   "file_extension": ".py",
   "mimetype": "text/x-python",
   "name": "python",
   "nbconvert_exporter": "python",
   "pygments_lexer": "ipython3",
   "version": "3.6.4"
  }
 },
 "nbformat": 4,
 "nbformat_minor": 2
}
